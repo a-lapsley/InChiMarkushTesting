{
 "cells": [
  {
   "cell_type": "code",
   "execution_count": 8,
   "id": "fdc88908-60dc-4860-8c82-291b702b5d62",
   "metadata": {},
   "outputs": [
    {
     "name": "stderr",
     "output_type": "stream",
     "text": [
      "[22:13:39] ERROR: Cannot convert '-8.' to unsigned int on line 4\n",
      "[22:13:39] ERROR: moving to the beginning of the next molecule\n"
     ]
    },
    {
     "ename": "ValueError",
     "evalue": "Null molecule provided",
     "output_type": "error",
     "traceback": [
      "\u001b[1;31m---------------------------------------------------------------------------\u001b[0m",
      "\u001b[1;31mValueError\u001b[0m                                Traceback (most recent call last)",
      "\u001b[1;32md:\\alexl\\Documents\\InChiMarkushTesting\\MarkInChI\\testing.ipynb Cell 1\u001b[0m line \u001b[0;36m1\n\u001b[0;32m     <a href='vscode-notebook-cell:/d%3A/alexl/Documents/InChiMarkushTesting/MarkInChI/testing.ipynb#W0sZmlsZQ%3D%3D?line=15'>16</a>\u001b[0m supply \u001b[39m=\u001b[39m Chem\u001b[39m.\u001b[39mSDMolSupplier(\u001b[39m\"\u001b[39m\u001b[39mmarvin/test4_RDKIT.sdf\u001b[39m\u001b[39m\"\u001b[39m)\n\u001b[0;32m     <a href='vscode-notebook-cell:/d%3A/alexl/Documents/InChiMarkushTesting/MarkInChI/testing.ipynb#W0sZmlsZQ%3D%3D?line=16'>17</a>\u001b[0m mol \u001b[39m=\u001b[39m supply[\u001b[39m0\u001b[39m]\n\u001b[1;32m---> <a href='vscode-notebook-cell:/d%3A/alexl/Documents/InChiMarkushTesting/MarkInChI/testing.ipynb#W0sZmlsZQ%3D%3D?line=18'>19</a>\u001b[0m Chem\u001b[39m.\u001b[39;49mDraw\u001b[39m.\u001b[39;49mShowMol(mol)\n",
      "File \u001b[1;32mc:\\Users\\alexl\\AppData\\Local\\Programs\\Python\\Python311\\Lib\\site-packages\\rdkit\\Chem\\Draw\\__init__.py:332\u001b[0m, in \u001b[0;36mShowMol\u001b[1;34m(mol, size, kekulize, wedgeBonds, title, stayInFront, **kwargs)\u001b[0m\n\u001b[0;32m    328\u001b[0m \u001b[39mimport\u001b[39;00m \u001b[39mtkinter\u001b[39;00m\n\u001b[0;32m    330\u001b[0m \u001b[39mfrom\u001b[39;00m \u001b[39mPIL\u001b[39;00m \u001b[39mimport\u001b[39;00m ImageTk\n\u001b[1;32m--> 332\u001b[0m img \u001b[39m=\u001b[39m MolToImage(mol, size, kekulize, wedgeBonds, \u001b[39m*\u001b[39;49m\u001b[39m*\u001b[39;49mkwargs)\n\u001b[0;32m    334\u001b[0m tkRoot \u001b[39m=\u001b[39m tkinter\u001b[39m.\u001b[39mTk()\n\u001b[0;32m    335\u001b[0m tkRoot\u001b[39m.\u001b[39mtitle(title)\n",
      "File \u001b[1;32mc:\\Users\\alexl\\AppData\\Local\\Programs\\Python\\Python311\\Lib\\site-packages\\rdkit\\Chem\\Draw\\__init__.py:231\u001b[0m, in \u001b[0;36mMolToImage\u001b[1;34m(mol, size, kekulize, wedgeBonds, fitImage, options, canvas, **kwargs)\u001b[0m\n\u001b[0;32m    201\u001b[0m \u001b[39m\"\"\"Returns a PIL image containing a drawing of the molecule\u001b[39;00m\n\u001b[0;32m    202\u001b[0m \n\u001b[0;32m    203\u001b[0m \u001b[39m    ARGUMENTS:\u001b[39;00m\n\u001b[1;32m   (...)\u001b[0m\n\u001b[0;32m    228\u001b[0m \u001b[39m      a PIL Image object\u001b[39;00m\n\u001b[0;32m    229\u001b[0m \u001b[39m\"\"\"\u001b[39;00m\n\u001b[0;32m    230\u001b[0m \u001b[39mif\u001b[39;00m \u001b[39mnot\u001b[39;00m mol:\n\u001b[1;32m--> 231\u001b[0m   \u001b[39mraise\u001b[39;00m \u001b[39mValueError\u001b[39;00m(\u001b[39m'\u001b[39m\u001b[39mNull molecule provided\u001b[39m\u001b[39m'\u001b[39m)\n\u001b[0;32m    232\u001b[0m \u001b[39mif\u001b[39;00m canvas \u001b[39mis\u001b[39;00m \u001b[39mnot\u001b[39;00m \u001b[39mNone\u001b[39;00m \u001b[39mor\u001b[39;00m \u001b[39mnot\u001b[39;00m \u001b[39mhasattr\u001b[39m(rdMolDraw2D, \u001b[39m'\u001b[39m\u001b[39mMolDraw2DCairo\u001b[39m\u001b[39m'\u001b[39m):\n\u001b[0;32m    233\u001b[0m   \u001b[39mreturn\u001b[39;00m _legacyMolToImage(mol, size, kekulize, wedgeBonds, fitImage, options, canvas, \u001b[39m*\u001b[39m\u001b[39m*\u001b[39mkwargs)\n",
      "\u001b[1;31mValueError\u001b[0m: Null molecule provided"
     ]
    }
   ],
   "source": [
    "import os\n",
    "from rdkit import Chem\n",
    "from rdkit.Chem.Draw import ShowMol\n",
    "from rdkit.Chem import rdFMCS\n",
    "from rdkit.Chem import rdchem\n",
    "from markmol import MarkMol\n",
    "\n",
    "structure_dir = os.path.join(os.getcwd(), \"Structures_for_testing\")\n",
    "filename = \"ext3.sdf\"\n",
    "\n",
    "#with open(os.path.join(structure_dir, filename), \"r\") as file:\n",
    "#    name = os.path.abspath(file.name)\n",
    "#    markinchi_obj = MarkMol(name)\n",
    "    \n",
    "\n",
    "supply = Chem.SDMolSupplier(\"marvin/test4_RDKIT.sdf\")\n",
    "mol = supply[0]\n",
    "\n",
    "Chem.Draw.ShowMol(mol)"
   ]
  },
  {
   "cell_type": "code",
   "execution_count": 8,
   "id": "5896e0e5-a1ab-4c74-9a2b-63fc92aeedd7",
   "metadata": {},
   "outputs": [
    {
     "name": "stdout",
     "output_type": "stream",
     "text": [
      "6\n",
      "6\n",
      "6\n",
      "6\n",
      "6\n",
      "6\n",
      "6\n",
      "6\n",
      "7\n",
      "6\n",
      "6\n"
     ]
    }
   ],
   "source": [
    "meth = Chem.MolFromMolFile(\"testing_stuff\\meth.mol\")\n",
    "\n",
    "for atom in meth.GetAtoms():\n",
    "    print(atom.GetAtomicNum())\n",
    "\n",
    "ShowMol(meth)"
   ]
  },
  {
   "cell_type": "code",
   "execution_count": 4,
   "id": "d15691e4",
   "metadata": {},
   "outputs": [],
   "source": [
    "m = Chem.MolFromSmiles('OC1C2C1CC2')\n",
    "Chem.Draw.ShowMol(m)"
   ]
  },
  {
   "cell_type": "code",
   "execution_count": 63,
   "id": "49f75847",
   "metadata": {},
   "outputs": [],
   "source": [
    "def addAtomLabels(mol):\n",
    "    for i, atom in enumerate(mol.GetAtoms()):\n",
    "        atom.SetProp(\"molAtomMapNumber\", str(atom.GetIdx()))\n",
    "    return mol"
   ]
  },
  {
   "cell_type": "code",
   "execution_count": 87,
   "id": "b9d3a1a9",
   "metadata": {},
   "outputs": [],
   "source": [
    "def add_subgroups(mol, submap, r_groups):\n",
    "    for atom in mol.GetAtoms():\n",
    "        if atom.GetIdx() not in submap:\n",
    "            for neighbour in atom.GetNeighbors():\n",
    "                i = neighbour.GetIdx()\n",
    "                try: \n",
    "                    j = submap.index(i)\n",
    "                    n = atom.GetAtomicNum()\n",
    "                    if n not in r_groups[j] :\n",
    "                        r_groups[j].append(n)\n",
    "                    \n",
    "                except:\n",
    "                    print(\"Atom not connected to the core\")\n",
    "    return r_groups"
   ]
  },
  {
   "cell_type": "code",
   "execution_count": 89,
   "id": "9a0a6942",
   "metadata": {},
   "outputs": [
    {
     "name": "stdout",
     "output_type": "stream",
     "text": [
      "[[], [], [], [6, 17], [], []]\n"
     ]
    }
   ],
   "source": [
    "mol1 = Chem.MolFromInchi(\"InChI=1S/C7H8/c1-7-5-3-2-4-6-7/h2-6H,1H3\")\n",
    "mol2 = Chem.MolFromInchi(\"InChI=1S/C6H5Cl/c7-6-4-2-1-3-5-6/h1-5H\")\n",
    "mol3 = Chem.MolFromInchi(\"InChI=1S/C6H6/c1-2-4-6-5-3-1/h1-6H\")\n",
    "\n",
    "mols = [mol1, mol2, mol3]\n",
    "\n",
    "for mol in mols:\n",
    "    mol = addAtomLabels(mol)\n",
    "\n",
    "res = rdFMCS.FindMCS(mols)\n",
    "core = Chem.MolFromSmarts(res.smartsString)\n",
    "core = addAtomLabels(core)\n",
    "\n",
    "#ShowMol(core)\n",
    "#ShowMol(mol1)\n",
    "\n",
    "r_groups = []\n",
    "for i in range(core.GetNumAtoms()):\n",
    "    r_groups.append([])\n",
    "\n",
    "for mol in mols:\n",
    "    submap = mol.GetSubstructMatch(core)\n",
    "    r_groups = add_subgroups(mol, submap, r_groups)\n",
    "\n",
    "print(r_groups)"
   ]
  },
  {
   "cell_type": "code",
   "execution_count": 44,
   "id": "3ae76867",
   "metadata": {},
   "outputs": [
    {
     "name": "stdout",
     "output_type": "stream",
     "text": [
      "7\n"
     ]
    }
   ],
   "source": [
    "s = "
   ]
  },
  {
   "cell_type": "code",
   "execution_count": 1,
   "id": "7df353ea",
   "metadata": {},
   "outputs": [
    {
     "ename": "NameError",
     "evalue": "name 'os' is not defined",
     "output_type": "error",
     "traceback": [
      "\u001b[1;31m---------------------------------------------------------------------------\u001b[0m",
      "\u001b[1;31mNameError\u001b[0m                                 Traceback (most recent call last)",
      "\u001b[1;32md:\\alexl\\Documents\\InChiMarkushTesting\\MarkInChI\\testing.ipynb Cell 8\u001b[0m line \u001b[0;36m2\n\u001b[0;32m      <a href='vscode-notebook-cell:/d%3A/alexl/Documents/InChiMarkushTesting/MarkInChI/testing.ipynb#X10sZmlsZQ%3D%3D?line=0'>1</a>\u001b[0m \u001b[39mimport\u001b[39;00m \u001b[39mMarkinchiGenerator\u001b[39;00m\n\u001b[1;32m----> <a href='vscode-notebook-cell:/d%3A/alexl/Documents/InChiMarkushTesting/MarkInChI/testing.ipynb#X10sZmlsZQ%3D%3D?line=1'>2</a>\u001b[0m file \u001b[39m=\u001b[39m os\u001b[39m.\u001b[39mpath\u001b[39m.\u001b[39mjoin(os\u001b[39m.\u001b[39mgetcwd(), \u001b[39m\"\u001b[39m\u001b[39mmarvin/test2.sdf\u001b[39m\u001b[39m\"\u001b[39m)\n\u001b[0;32m      <a href='vscode-notebook-cell:/d%3A/alexl/Documents/InChiMarkushTesting/MarkInChI/testing.ipynb#X10sZmlsZQ%3D%3D?line=2'>3</a>\u001b[0m generator \u001b[39m=\u001b[39m MarkinchiGenerator\u001b[39m.\u001b[39mMarkinchiGenerator(file)\n\u001b[0;32m      <a href='vscode-notebook-cell:/d%3A/alexl/Documents/InChiMarkushTesting/MarkInChI/testing.ipynb#X10sZmlsZQ%3D%3D?line=3'>4</a>\u001b[0m generator\u001b[39m.\u001b[39mget_core()\n",
      "\u001b[1;31mNameError\u001b[0m: name 'os' is not defined"
     ]
    }
   ],
   "source": [
    "import MarkinchiGenerator\n",
    "file = os.path.join(os.getcwd(), \"marvin/test2.sdf\")\n",
    "generator = MarkinchiGenerator.MarkinchiGenerator(file)\n",
    "generator.get_core()\n"
   ]
  },
  {
   "cell_type": "code",
   "execution_count": null,
   "id": "ed67815b",
   "metadata": {},
   "outputs": [],
   "source": []
  }
 ],
 "metadata": {
  "kernelspec": {
   "display_name": "Python 3",
   "language": "python",
   "name": "python3"
  },
  "language_info": {
   "codemirror_mode": {
    "name": "ipython",
    "version": 3
   },
   "file_extension": ".py",
   "mimetype": "text/x-python",
   "name": "python",
   "nbconvert_exporter": "python",
   "pygments_lexer": "ipython3",
   "version": "3.11.0"
  },
  "vscode": {
   "interpreter": {
    "hash": "2821e112fb52770800ec512e94dc1b2461615a345dd2932a205a23b248255496"
   }
  }
 },
 "nbformat": 4,
 "nbformat_minor": 5
}
