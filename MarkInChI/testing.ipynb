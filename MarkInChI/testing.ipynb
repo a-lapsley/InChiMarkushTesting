{
 "cells": [
  {
   "cell_type": "code",
   "execution_count": null,
   "id": "fdc88908-60dc-4860-8c82-291b702b5d62",
   "metadata": {},
   "outputs": [],
   "source": [
    "import os\n",
    "from rdkit import Chem\n",
    "from markmol import MarkMol\n",
    "\n",
    "structure_dir = os.path.join(os.getcwd(), \"Structures_for_testing\")\n",
    "filename = \"ext3.sdf\"\n",
    "\n",
    "with open(os.path.join(structure_dir, filename), \"r\") as file:\n",
    "    name = os.path.abspath(file.name)\n",
    "    markinchi_obj = MarkMol(name)\n",
    "    \n",
    "\n",
    "supply = Chem.SDMolSupplier(\"Structures_for_testing\\ext3_RDKIT.sdf\")\n",
    "mol = supply[0]\n",
    "\n",
    "Chem.Draw.ShowMol(mol)\n"
   ]
  },
  {
   "cell_type": "code",
   "execution_count": null,
   "id": "5896e0e5-a1ab-4c74-9a2b-63fc92aeedd7",
   "metadata": {},
   "outputs": [],
   "source": []
  },
  {
   "cell_type": "code",
   "execution_count": null,
   "id": "d15691e4",
   "metadata": {},
   "outputs": [],
   "source": []
  }
 ],
 "metadata": {
  "kernelspec": {
   "display_name": "Python 3",
   "language": "python",
   "name": "python3"
  },
  "language_info": {
   "codemirror_mode": {
    "name": "ipython",
    "version": 3
   },
   "file_extension": ".py",
   "mimetype": "text/x-python",
   "name": "python",
   "nbconvert_exporter": "python",
   "pygments_lexer": "ipython3",
   "version": "3.11.0"
  },
  "vscode": {
   "interpreter": {
    "hash": "2821e112fb52770800ec512e94dc1b2461615a345dd2932a205a23b248255496"
   }
  }
 },
 "nbformat": 4,
 "nbformat_minor": 5
}
