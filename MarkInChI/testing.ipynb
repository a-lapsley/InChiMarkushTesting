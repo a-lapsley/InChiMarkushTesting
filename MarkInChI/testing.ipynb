{
 "cells": [
  {
   "cell_type": "code",
   "execution_count": 46,
   "id": "fdc88908-60dc-4860-8c82-291b702b5d62",
   "metadata": {},
   "outputs": [],
   "source": [
    "import os\n",
    "from rdkit import Chem\n",
    "from rdkit.Chem.Draw import ShowMol\n",
    "from rdkit.Chem import rdFMCS\n",
    "from rdkit.Chem import rdchem\n",
    "from markmol import MarkMol\n",
    "\n",
    "structure_dir = os.path.join(os.getcwd(), \"Structures_for_testing\")\n",
    "filename = \"ext3.sdf\"\n",
    "\n",
    "#with open(os.path.join(structure_dir, filename), \"r\") as file:\n",
    "#    name = os.path.abspath(file.name)\n",
    "#    markinchi_obj = MarkMol(name)\n",
    "    \n",
    "\n",
    "#supply = Chem.SDMolSupplier(\"Structures_for_testing\\ext3_RDKIT.sdf\")\n",
    "#mol = supply[0]\n",
    "\n",
    "#Chem.Draw.ShowMol(mol)"
   ]
  },
  {
   "cell_type": "code",
   "execution_count": 8,
   "id": "5896e0e5-a1ab-4c74-9a2b-63fc92aeedd7",
   "metadata": {},
   "outputs": [
    {
     "name": "stdout",
     "output_type": "stream",
     "text": [
      "6\n",
      "6\n",
      "6\n",
      "6\n",
      "6\n",
      "6\n",
      "6\n",
      "6\n",
      "7\n",
      "6\n",
      "6\n"
     ]
    }
   ],
   "source": [
    "meth = Chem.MolFromMolFile(\"testing_stuff\\meth.mol\")\n",
    "\n",
    "for atom in meth.GetAtoms():\n",
    "    print(atom.GetAtomicNum())\n",
    "\n",
    "ShowMol(meth)"
   ]
  },
  {
   "cell_type": "code",
   "execution_count": 4,
   "id": "d15691e4",
   "metadata": {},
   "outputs": [],
   "source": [
    "m = Chem.MolFromSmiles('OC1C2C1CC2')\n",
    "Chem.Draw.ShowMol(m)"
   ]
  },
  {
   "cell_type": "code",
   "execution_count": 63,
   "id": "49f75847",
   "metadata": {},
   "outputs": [],
   "source": [
    "def addAtomLabels(mol):\n",
    "    for i, atom in enumerate(mol.GetAtoms()):\n",
    "        atom.SetProp(\"molAtomMapNumber\", str(atom.GetIdx()))\n",
    "    return mol"
   ]
  },
  {
   "cell_type": "code",
   "execution_count": 87,
   "id": "b9d3a1a9",
   "metadata": {},
   "outputs": [],
   "source": [
    "def add_subgroups(mol, submap, r_groups):\n",
    "    for atom in mol.GetAtoms():\n",
    "        if atom.GetIdx() not in submap:\n",
    "            for neighbour in atom.GetNeighbors():\n",
    "                i = neighbour.GetIdx()\n",
    "                try: \n",
    "                    j = submap.index(i)\n",
    "                    n = atom.GetAtomicNum()\n",
    "                    if n not in r_groups[j] :\n",
    "                        r_groups[j].append(n)\n",
    "                    \n",
    "                except:\n",
    "                    print(\"Atom not connected to the core\")\n",
    "    return r_groups"
   ]
  },
  {
   "cell_type": "code",
   "execution_count": 89,
   "id": "9a0a6942",
   "metadata": {},
   "outputs": [
    {
     "name": "stdout",
     "output_type": "stream",
     "text": [
      "[[], [], [], [6, 17], [], []]\n"
     ]
    }
   ],
   "source": [
    "mol1 = Chem.MolFromInchi(\"InChI=1S/C7H8/c1-7-5-3-2-4-6-7/h2-6H,1H3\")\n",
    "mol2 = Chem.MolFromInchi(\"InChI=1S/C6H5Cl/c7-6-4-2-1-3-5-6/h1-5H\")\n",
    "mol3 = Chem.MolFromInchi(\"InChI=1S/C6H6/c1-2-4-6-5-3-1/h1-6H\")\n",
    "\n",
    "mols = [mol1, mol2, mol3]\n",
    "\n",
    "for mol in mols:\n",
    "    mol = addAtomLabels(mol)\n",
    "\n",
    "res = rdFMCS.FindMCS(mols)\n",
    "core = Chem.MolFromSmarts(res.smartsString)\n",
    "core = addAtomLabels(core)\n",
    "\n",
    "#ShowMol(core)\n",
    "#ShowMol(mol1)\n",
    "\n",
    "r_groups = []\n",
    "for i in range(core.GetNumAtoms()):\n",
    "    r_groups.append([])\n",
    "\n",
    "for mol in mols:\n",
    "    submap = mol.GetSubstructMatch(core)\n",
    "    r_groups = add_subgroups(mol, submap, r_groups)\n",
    "\n",
    "print(r_groups)"
   ]
  },
  {
   "cell_type": "code",
   "execution_count": 44,
   "id": "3ae76867",
   "metadata": {},
   "outputs": [
    {
     "name": "stdout",
     "output_type": "stream",
     "text": [
      "7\n"
     ]
    }
   ],
   "source": []
  },
  {
   "cell_type": "code",
   "execution_count": null,
   "id": "7df353ea",
   "metadata": {},
   "outputs": [],
   "source": []
  }
 ],
 "metadata": {
  "kernelspec": {
   "display_name": "Python 3",
   "language": "python",
   "name": "python3"
  },
  "language_info": {
   "codemirror_mode": {
    "name": "ipython",
    "version": 3
   },
   "file_extension": ".py",
   "mimetype": "text/x-python",
   "name": "python",
   "nbconvert_exporter": "python",
   "pygments_lexer": "ipython3",
   "version": "3.11.0"
  },
  "vscode": {
   "interpreter": {
    "hash": "2821e112fb52770800ec512e94dc1b2461615a345dd2932a205a23b248255496"
   }
  }
 },
 "nbformat": 4,
 "nbformat_minor": 5
}
