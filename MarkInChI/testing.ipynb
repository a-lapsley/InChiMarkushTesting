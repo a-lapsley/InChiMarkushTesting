{
 "cells": [
  {
   "cell_type": "code",
   "execution_count": 8,
   "id": "fdc88908-60dc-4860-8c82-291b702b5d62",
   "metadata": {},
   "outputs": [
    {
     "data": {
      "image/png": "[encoded data removed]",
      "text/plain": [
       "<rdkit.Chem.rdchem.Mol at 0x1ed3f639930>"
      ]
     },
     "execution_count": 8,
     "metadata": {},
     "output_type": "execute_result"
    }
   ],
   "source": [
    "import os\n",
    "from rdkit import Chem\n",
    "from rdkit.Chem.Draw import ShowMol\n",
    "from rdkit.Chem import rdFMCS\n",
    "from rdkit.Chem import rdchem\n",
    "from markmol import MarkMol\n",
    "\n",
    "structure_dir = os.path.join(os.getcwd(), \"marvin\")\n",
    "filename = \"ext3.sdf\"\n",
    "filedir = os.path.join(structure_dir, \"test9.mol\")\n",
    "\n",
    "#with open(os.path.join(structure_dir, filename), \"r\") as file:\n",
    "#    name = os.path.abspath(file.name)\n",
    "#    markinchi_obj = MarkMol(name)\n",
    "    \n",
    "\n",
    "with open(filedir) as file:\n",
    "    content = file.readlines()\n",
    "\n",
    "new_content = \"\"\n",
    "writing = True\n",
    "for line in content:\n",
    "    if line.find(\"BEGIN RGROUP\") != -1:\n",
    "        writing = False\n",
    "    if writing:\n",
    "        new_content += line\n",
    "    if line.find(\"END RGROUP\") != -1:\n",
    "        writing = True\n",
    "\n",
    "mol = Chem.MolFromMolBlock(new_content)\n",
    "mol"
   ]
  },
  {
   "cell_type": "code",
   "execution_count": 89,
   "id": "9a0a6942",
   "metadata": {},
   "outputs": [
    {
     "name": "stdout",
     "output_type": "stream",
     "text": [
      "[[], [], [], [6, 17], [], []]\n"
     ]
    }
   ],
   "source": [
    "mol1 = Chem.MolFromInchi(\"InChI=1S/C7H8/c1-7-5-3-2-4-6-7/h2-6H,1H3\")\n",
    "mol2 = Chem.MolFromInchi(\"InChI=1S/C6H5Cl/c7-6-4-2-1-3-5-6/h1-5H\")\n",
    "mol3 = Chem.MolFromInchi(\"InChI=1S/C6H6/c1-2-4-6-5-3-1/h1-6H\")\n",
    "\n",
    "mols = [mol1, mol2, mol3]\n",
    "\n",
    "for mol in mols:\n",
    "    mol = addAtomLabels(mol)\n",
    "\n",
    "res = rdFMCS.FindMCS(mols)\n",
    "core = Chem.MolFromSmarts(res.smartsString)\n",
    "core = addAtomLabels(core)\n",
    "\n",
    "#ShowMol(core)\n",
    "#ShowMol(mol1)\n",
    "\n",
    "r_groups = []\n",
    "for i in range(core.GetNumAtoms()):\n",
    "    r_groups.append([])\n",
    "\n",
    "for mol in mols:\n",
    "    submap = mol.GetSubstructMatch(core)\n",
    "    r_groups = add_subgroups(mol, submap, r_groups)\n",
    "\n",
    "print(r_groups)"
   ]
  },
  {
   "cell_type": "code",
   "execution_count": 44,
   "id": "3ae76867",
   "metadata": {},
   "outputs": [
    {
     "name": "stdout",
     "output_type": "stream",
     "text": [
      "7\n"
     ]
    }
   ],
   "source": [
    "s = "
   ]
  },
  {
   "cell_type": "code",
   "execution_count": 1,
   "id": "7df353ea",
   "metadata": {},
   "outputs": [
    {
     "ename": "NameError",
     "evalue": "name 'os' is not defined",
     "output_type": "error",
     "traceback": [
      "\u001b[1;31m---------------------------------------------------------------------------\u001b[0m",
      "\u001b[1;31mNameError\u001b[0m                                 Traceback (most recent call last)",
      "\u001b[1;32md:\\alexl\\Documents\\InChiMarkushTesting\\MarkInChI\\testing.ipynb Cell 8\u001b[0m line \u001b[0;36m2\n\u001b[0;32m      <a href='vscode-notebook-cell:/d%3A/alexl/Documents/InChiMarkushTesting/MarkInChI/testing.ipynb#X10sZmlsZQ%3D%3D?line=0'>1</a>\u001b[0m \u001b[39mimport\u001b[39;00m \u001b[39mMarkinchiGenerator\u001b[39;00m\n\u001b[1;32m----> <a href='vscode-notebook-cell:/d%3A/alexl/Documents/InChiMarkushTesting/MarkInChI/testing.ipynb#X10sZmlsZQ%3D%3D?line=1'>2</a>\u001b[0m file \u001b[39m=\u001b[39m os\u001b[39m.\u001b[39mpath\u001b[39m.\u001b[39mjoin(os\u001b[39m.\u001b[39mgetcwd(), \u001b[39m\"\u001b[39m\u001b[39mmarvin/test2.sdf\u001b[39m\u001b[39m\"\u001b[39m)\n\u001b[0;32m      <a href='vscode-notebook-cell:/d%3A/alexl/Documents/InChiMarkushTesting/MarkInChI/testing.ipynb#X10sZmlsZQ%3D%3D?line=2'>3</a>\u001b[0m generator \u001b[39m=\u001b[39m MarkinchiGenerator\u001b[39m.\u001b[39mMarkinchiGenerator(file)\n\u001b[0;32m      <a href='vscode-notebook-cell:/d%3A/alexl/Documents/InChiMarkushTesting/MarkInChI/testing.ipynb#X10sZmlsZQ%3D%3D?line=3'>4</a>\u001b[0m generator\u001b[39m.\u001b[39mget_core()\n",
      "\u001b[1;31mNameError\u001b[0m: name 'os' is not defined"
     ]
    }
   ],
   "source": [
    "import MarkinchiGenerator\n",
    "file = os.path.join(os.getcwd(), \"marvin/test2.sdf\")\n",
    "generator = MarkinchiGenerator.MarkinchiGenerator(file)\n",
    "generator.get_core()\n"
   ]
  },
  {
   "cell_type": "code",
   "execution_count": null,
   "id": "ed67815b",
   "metadata": {},
   "outputs": [],
   "source": []
  }
 ],
 "metadata": {
  "kernelspec": {
   "display_name": "Python 3",
   "language": "python",
   "name": "python3"
  },
  "language_info": {
   "codemirror_mode": {
    "name": "ipython",
    "version": 3
   },
   "file_extension": ".py",
   "mimetype": "text/x-python",
   "name": "python",
   "nbconvert_exporter": "python",
   "pygments_lexer": "ipython3",
   "version": "3.11.0"
  },
  "vscode": {
   "interpreter": {
    "hash": "2821e112fb52770800ec512e94dc1b2461615a345dd2932a205a23b248255496"
   }
  }
 },
 "nbformat": 4,
 "nbformat_minor": 5
}
