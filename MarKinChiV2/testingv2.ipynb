{
 "cells": [
  {
   "cell_type": "code",
   "execution_count": 2,
   "metadata": {},
   "outputs": [
    {
     "name": "stdout",
     "output_type": "stream",
     "text": [
      "6\n",
      "6\n",
      "6\n",
      "6\n",
      "6\n",
      "0\n",
      "0\n",
      "6\n"
     ]
    },
    {
     "name": "stderr",
     "output_type": "stream",
     "text": [
      "[13:32:55] WARNING: not removing hydrogen atom without neighbors\n"
     ]
    }
   ],
   "source": [
    "from markmol3000 import *\n",
    "\n",
    "markinchi = MarkMol3000()\n",
    "laptop_filedir = \"C:\\\\Users\\\\alexl\\\\OneDrive\\\\Documents\\\\InChiMarkushTesting\\\\MarKinChiV2\\\\marvin\\\\test2.mol\"\n",
    "desktop_filedir = \"D:\\\\alexl\\\\Documents\\\\InChiMarkushTesting\\\\MarKinChiV2\\\\marvin\\\\test1b.mol\"\n",
    "\n",
    "markinchi.load_from_file(desktop_filedir)\n",
    "markinchi.generate_markinchi()\n",
    "\n",
    "for atom in markinchi.core.GetAtoms():\n",
    "    print(atom.GetAtomicNum())\n"
   ]
  },
  {
   "cell_type": "code",
   "execution_count": 37,
   "metadata": {},
   "outputs": [
    {
     "name": "stderr",
     "output_type": "stream",
     "text": [
      "[20:39:06] Problems encountered parsing Mol data, M  END missing around line 21\n"
     ]
    },
    {
     "ename": "AttributeError",
     "evalue": "'NoneType' object has no attribute 'GetAtoms'",
     "output_type": "error",
     "traceback": [
      "\u001b[1;31m---------------------------------------------------------------------------\u001b[0m",
      "\u001b[1;31mAttributeError\u001b[0m                            Traceback (most recent call last)",
      "\u001b[1;32md:\\alexl\\Documents\\InChiMarkushTesting\\MarKinChiV2\\testingv2.ipynb Cell 2\u001b[0m line \u001b[0;36m2\n\u001b[0;32m      <a href='vscode-notebook-cell:/d%3A/alexl/Documents/InChiMarkushTesting/MarKinChiV2/testingv2.ipynb#W1sZmlsZQ%3D%3D?line=0'>1</a>\u001b[0m mol \u001b[39m=\u001b[39m Chem\u001b[39m.\u001b[39mMolFromMolFile(\u001b[39m\"\u001b[39m\u001b[39mD:\u001b[39m\u001b[39m\\\\\u001b[39;00m\u001b[39malexl\u001b[39m\u001b[39m\\\\\u001b[39;00m\u001b[39mDocuments\u001b[39m\u001b[39m\\\\\u001b[39;00m\u001b[39mInChiMarkushTesting\u001b[39m\u001b[39m\\\\\u001b[39;00m\u001b[39mMarKinChiV2\u001b[39m\u001b[39m\\\\\u001b[39;00m\u001b[39mmarvin\u001b[39m\u001b[39m\\\\\u001b[39;00m\u001b[39mtest15.mol\u001b[39m\u001b[39m\"\u001b[39m)\n\u001b[1;32m----> <a href='vscode-notebook-cell:/d%3A/alexl/Documents/InChiMarkushTesting/MarKinChiV2/testingv2.ipynb#W1sZmlsZQ%3D%3D?line=1'>2</a>\u001b[0m \u001b[39mfor\u001b[39;00m i, atom \u001b[39min\u001b[39;00m \u001b[39menumerate\u001b[39m(mol\u001b[39m.\u001b[39;49mGetAtoms()):\n\u001b[0;32m      <a href='vscode-notebook-cell:/d%3A/alexl/Documents/InChiMarkushTesting/MarKinChiV2/testingv2.ipynb#W1sZmlsZQ%3D%3D?line=2'>3</a>\u001b[0m     atom\u001b[39m.\u001b[39mSetProp(\u001b[39m\"\u001b[39m\u001b[39mmolAtomMapNumber\u001b[39m\u001b[39m\"\u001b[39m, \u001b[39mstr\u001b[39m(atom\u001b[39m.\u001b[39mGetIdx()\u001b[39m+\u001b[39m\u001b[39m1\u001b[39m))\n\u001b[0;32m      <a href='vscode-notebook-cell:/d%3A/alexl/Documents/InChiMarkushTesting/MarKinChiV2/testingv2.ipynb#W1sZmlsZQ%3D%3D?line=3'>4</a>\u001b[0m inchi, auxinfo \u001b[39m=\u001b[39m Chem\u001b[39m.\u001b[39mMolToInchiAndAuxInfo(mol)\n",
      "\u001b[1;31mAttributeError\u001b[0m: 'NoneType' object has no attribute 'GetAtoms'"
     ]
    }
   ],
   "source": [
    "mol = Chem.MolFromMolFile(\"D:\\\\alexl\\\\Documents\\\\InChiMarkushTesting\\\\MarKinChiV2\\\\marvin\\\\test15.mol\")\n",
    "for i, atom in enumerate(mol.GetAtoms()):\n",
    "    atom.SetProp(\"molAtomMapNumber\", str(atom.GetIdx()+1))\n",
    "inchi, auxinfo = Chem.MolToInchiAndAuxInfo(mol)\n",
    "print(inchi, auxinfo)\n",
    "ShowMol(mol)\n",
    "\n",
    "inchi, auxinfo = Chem.MolToInchiAndAuxInfo(mol)\n",
    "print(inchi, auxinfo)\n",
    "mol = Chem.MolFromInchi(inchi)\n",
    "for i, atom in enumerate(mol.GetAtoms()):\n",
    "    atom.SetProp(\"molAtomMapNumber\", str(atom.GetIdx()+1))\n",
    "ShowMol(mol)\n",
    "#print(Chem.MolToV3KMolBlock(mol))"
   ]
  },
  {
   "cell_type": "markdown",
   "metadata": {},
   "source": []
  },
  {
   "cell_type": "code",
   "execution_count": 4,
   "metadata": {},
   "outputs": [
    {
     "data": {
      "image/png": "[encoded data removed]",
      "text/plain": [
       "<IPython.core.display.Image object>"
      ]
     },
     "execution_count": 4,
     "metadata": {},
     "output_type": "execute_result"
    }
   ],
   "source": [
    "from rdkit import Chem\n",
    "from rdkit.Chem.Draw import IPythonConsole\n",
    "mol1 = Chem.MolFromInchi(\"InChI=1S/C4H7OXe3/c6-2-1-4(3-7)5-8/h4H,1-3H2\")\n",
    "mol2 = Chem.MolFromInchi(\"InChI=1S/C9H13Xe/c1-3-10(2)9-7-5-4-6-8-9/h4-8H,3H2,1-2H3\")\n",
    "mol_list = [mol1, mol2]\n",
    "Chem.Draw.MolsToGridImage(mol_list)\n"
   ]
  },
  {
   "cell_type": "code",
   "execution_count": null,
   "metadata": {},
   "outputs": [],
   "source": []
  }
 ],
 "metadata": {
  "kernelspec": {
   "display_name": "Python 3",
   "language": "python",
   "name": "python3"
  },
  "language_info": {
   "codemirror_mode": {
    "name": "ipython",
    "version": 3
   },
   "file_extension": ".py",
   "mimetype": "text/x-python",
   "name": "python",
   "nbconvert_exporter": "python",
   "pygments_lexer": "ipython3",
   "version": "3.11.0"
  }
 },
 "nbformat": 4,
 "nbformat_minor": 2
}
